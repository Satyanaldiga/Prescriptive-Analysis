{
  "nbformat": 4,
  "nbformat_minor": 0,
  "metadata": {
    "colab": {
      "provenance": []
    },
    "kernelspec": {
      "name": "python3",
      "display_name": "Python 3"
    },
    "language_info": {
      "name": "python"
    }
  },
  "cells": [
    {
      "cell_type": "code",
      "execution_count": 1,
      "metadata": {
        "colab": {
          "base_uri": "https://localhost:8080/"
        },
        "id": "q4bLhb6iNBEI",
        "outputId": "3e554d03-bfc0-40d6-b864-a71a3b049ea9"
      },
      "outputs": [
        {
          "output_type": "stream",
          "name": "stdout",
          "text": [
            "\u001b[2K   \u001b[90m━━━━━━━━━━━━━━━━━━━━━━━━━━━━━━━━━━━━━━━━\u001b[0m \u001b[32m5.6/5.6 MB\u001b[0m \u001b[31m24.7 MB/s\u001b[0m eta \u001b[36m0:00:00\u001b[0m\n",
            "\u001b[?25hLicensed to Bundle #6741.7193 expiring 20241231: INFO 645 Prescriptive Analytics, Prof. Paul Brooks, Virginia Commonwealth University.\n"
          ]
        }
      ],
      "source": [
        "# Install dependencies\n",
        "!pip install -q amplpy ampltools\n",
        "\n",
        "# Google Colab & AMPL integration\n",
        "MODULES, LICENSE_UUID = [\"coin\", 'gurobi', \"cplex\", \"highs\", \"gokestrel\"], \"42fc7eb6-69aa-445d-b655-3ad24d836541\"\n",
        "from amplpy import tools\n",
        "from ampltools import cloud_platform_name, ampl_notebook, register_magics\n",
        "\n",
        "# instantiate AMPL object and register magics\n",
        "if cloud_platform_name() is None:\n",
        "    ampl = AMPL() # Use local installation of AMPL\n",
        "else:\n",
        "    ampl = tools.ampl_notebook(modules=MODULES, license_uuid=LICENSE_UUID, g=globals())\n",
        "\n",
        "register_magics(ampl_object=ampl)"
      ]
    },
    {
      "cell_type": "code",
      "source": [
        "from scipy.optimize import linprog\n",
        "\n",
        "# Coefficients of the objective function (negative because linprog minimizes)\n",
        "c = [-0.12, -0.09]\n",
        "\n",
        "# Coefficients of the inequality constraints (Ax <= b)\n",
        "A = [\n",
        "    [1, 1],       # Total investment constraint: x1 + x2 <= 50000\n",
        "    [1, 0],       # Investment limit for Internet fund: x1 <= 35000\n",
        "    [6, 4]        # Risk constraint: 6x1 + 4x2 <= 240000\n",
        "]\n",
        "\n",
        "# Bounds for the right-hand side of the inequality constraints\n",
        "b = [50000, 35000, 240000]\n",
        "\n",
        "# Bounds for the decision variables (x1 and x2 must be non-negative)\n",
        "x_bounds = [(0, None), (0, None)]\n",
        "\n",
        "# Solve the linear programming problem\n",
        "result = linprog(c, A_ub=A, b_ub=b, bounds=x_bounds, method='highs')\n",
        "\n",
        "# Output the results\n",
        "if result.success:\n",
        "    x1, x2 = result.x\n",
        "    max_return = -result.fun\n",
        "    print(f\"Optimal investment in the Internet fund: ${x1:.2f}\")\n",
        "    print(f\"Optimal investment in the Blue Chip fund: ${x2:.2f}\")\n",
        "    print(f\"Maximum annual return: ${max_return:.2f}\")\n",
        "else:\n",
        "    print(\"The optimization problem did not converge to a solution.\")\n",
        "\n"
      ],
      "metadata": {
        "colab": {
          "base_uri": "https://localhost:8080/"
        },
        "id": "RckioxQVNJdR",
        "outputId": "04d1f6f3-58ba-4e48-e899-9102f4a7142f"
      },
      "execution_count": 6,
      "outputs": [
        {
          "output_type": "stream",
          "name": "stdout",
          "text": [
            "Optimal investment in the Internet fund: $20000.00\n",
            "Optimal investment in the Blue Chip fund: $30000.00\n",
            "Maximum annual return: $5100.00\n"
          ]
        }
      ]
    },
    {
      "cell_type": "code",
      "source": [
        "# Install dependencies\n",
        "!pip install -q amplpy ampltools\n",
        "\n",
        "# Google Colab & AMPL integration\n",
        "MODULES, LICENSE_UUID = [\"coin\", 'gurobi', \"cplex\", \"highs\", \"gokestrel\"], \"42fc7eb6-69aa-445d-b655-3ad24d836541\"\n",
        "from amplpy import tools\n",
        "from ampltools import cloud_platform_name, ampl_notebook, register_magics\n",
        "\n",
        "# instantiate AMPL object and register magics\n",
        "if cloud_platform_name() is None:\n",
        "    ampl = AMPL() # Use local installation of AMPL\n",
        "else:\n",
        "    ampl = tools.ampl_notebook(modules=MODULES, license_uuid=LICENSE_UUID, g=globals())\n",
        "\n",
        "register_magics(ampl_object=ampl)\n",
        "\n",
        "# Define model\n",
        "ampl.eval ('''\n",
        "reset;\n",
        "\n",
        "# Parameters\n",
        "param max_investment := 50000; # Maximum total investment\n",
        "param max_internet_investment := 35000; # Maximum investment in the Internet fund\n",
        "param max_risk := 240000; # Maximum risk tolerance\n",
        "param return_internet := 0.12; # Annual return of the Internet fund\n",
        "param return_bluechip := 0.09; # Annual return of the Blue Chip fund\n",
        "param risk_internet := 6; # Risk per $1,000 for the Internet fund\n",
        "param risk_bluechip := 4; # Risk per $1,000 for the Blue Chip fund\n",
        "\n",
        "# Decision Variables\n",
        "var x1 >= 0; # Amount invested in the Internet fund\n",
        "var x2 >= 0; # Amount invested in the Blue Chip fund\n",
        "\n",
        "# Objective Function: Maximize total annual return\n",
        "maximize TotalReturn: return_internet * x1 + return_bluechip * x2;\n",
        "\n",
        "# Constraints\n",
        "subject to\n",
        "  InvestmentLimit: x1 + x2 <= max_investment; # Total investment constraint\n",
        "  InternetFundLimit: x1 <= max_internet_investment; # Limit for the Internet fund\n",
        "  RiskLimit: risk_internet * x1 + risk_bluechip * x2 <= max_risk; # Risk tolerance constraint\n",
        "\n",
        "''')\n"
      ],
      "metadata": {
        "colab": {
          "base_uri": "https://localhost:8080/"
        },
        "id": "iUtc6_jTNUZr",
        "outputId": "a702712b-d560-48d0-9697-617e4f2e6c68"
      },
      "execution_count": 7,
      "outputs": [
        {
          "output_type": "stream",
          "name": "stdout",
          "text": [
            "Licensed to Bundle #6741.7193 expiring 20241231: INFO 645 Prescriptive Analytics, Prof. Paul Brooks, Virginia Commonwealth University.\n"
          ]
        }
      ]
    },
    {
      "cell_type": "code",
      "source": [
        "# Expand to confirm AMPL model syntax is correct\n",
        "ampl.eval('expand;')\n",
        "\n",
        "# Set solver option and solve\n",
        "ampl.setOption('solver', 'cbc')\n",
        "ampl.solve()"
      ],
      "metadata": {
        "colab": {
          "base_uri": "https://localhost:8080/"
        },
        "id": "5WJ3ss1dNbs8",
        "outputId": "bcb9af63-7f86-4785-968b-2f04495ad559"
      },
      "execution_count": 8,
      "outputs": [
        {
          "output_type": "stream",
          "name": "stdout",
          "text": [
            "maximize TotalReturn:\n",
            "\t0.12*x1 + 0.09*x2;\n",
            "\n",
            "subject to InvestmentLimit:\n",
            "\tx1 + x2 <= 50000;\n",
            "\n",
            "subject to InternetFundLimit:\n",
            "\tx1 <= 35000;\n",
            "\n",
            "subject to RiskLimit:\n",
            "\t6*x1 + 4*x2 <= 240000;\n",
            "\n",
            "cbc 2.10.10: \b\b\b\b\b\b\b\b\b\b\b\b\bcbc 2.10.10: optimal solution; objective 5100\n",
            "0 simplex iterations\n"
          ]
        }
      ]
    },
    {
      "cell_type": "code",
      "source": [
        "\n",
        "# Get and print results\n",
        "obj = ampl.getObjective('TotalReturn')\n",
        "print(\"\\nTotal maximum return is: \", obj.value(), \"\\n\")\n",
        "print(\"Optimal investments:\")\n",
        "ampl.display('x1', 'x2')"
      ],
      "metadata": {
        "colab": {
          "base_uri": "https://localhost:8080/"
        },
        "id": "n2tPWdi-NfBT",
        "outputId": "f7b6f49b-c8cf-4377-8fa6-99c56767579f"
      },
      "execution_count": 11,
      "outputs": [
        {
          "output_type": "stream",
          "name": "stdout",
          "text": [
            "\n",
            "Total maximum return is:  5100.0 \n",
            "\n",
            "Optimal investments:\n",
            "x1 = 20000\n",
            "x2 = 30000\n",
            "\n"
          ]
        }
      ]
    }
  ]
}