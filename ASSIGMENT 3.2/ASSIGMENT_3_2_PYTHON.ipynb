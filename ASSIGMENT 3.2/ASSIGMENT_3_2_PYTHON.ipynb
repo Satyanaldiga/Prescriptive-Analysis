{
  "nbformat": 4,
  "nbformat_minor": 0,
  "metadata": {
    "colab": {
      "provenance": []
    },
    "kernelspec": {
      "name": "python3",
      "display_name": "Python 3"
    },
    "language_info": {
      "name": "python"
    }
  },
  "cells": [
    {
      "cell_type": "markdown",
      "source": [
        "### ***Python Code***"
      ],
      "metadata": {
        "id": "HFB0F2YxT8rp"
      }
    },
    {
      "cell_type": "code",
      "source": [
        "pip install pulp pandas"
      ],
      "metadata": {
        "colab": {
          "base_uri": "https://localhost:8080/"
        },
        "id": "VZSJ1CJCnafn",
        "outputId": "31bd3e75-0bda-47db-baf7-075b7d6bc334"
      },
      "execution_count": 1,
      "outputs": [
        {
          "output_type": "stream",
          "name": "stdout",
          "text": [
            "Collecting pulp\n",
            "  Downloading PuLP-2.9.0-py3-none-any.whl.metadata (5.4 kB)\n",
            "Requirement already satisfied: pandas in /usr/local/lib/python3.10/dist-packages (2.2.2)\n",
            "Requirement already satisfied: numpy>=1.22.4 in /usr/local/lib/python3.10/dist-packages (from pandas) (1.26.4)\n",
            "Requirement already satisfied: python-dateutil>=2.8.2 in /usr/local/lib/python3.10/dist-packages (from pandas) (2.8.2)\n",
            "Requirement already satisfied: pytz>=2020.1 in /usr/local/lib/python3.10/dist-packages (from pandas) (2024.2)\n",
            "Requirement already satisfied: tzdata>=2022.7 in /usr/local/lib/python3.10/dist-packages (from pandas) (2024.2)\n",
            "Requirement already satisfied: six>=1.5 in /usr/local/lib/python3.10/dist-packages (from python-dateutil>=2.8.2->pandas) (1.16.0)\n",
            "Downloading PuLP-2.9.0-py3-none-any.whl (17.7 MB)\n",
            "\u001b[2K   \u001b[90m━━━━━━━━━━━━━━━━━━━━━━━━━━━━━━━━━━━━━━━━\u001b[0m \u001b[32m17.7/17.7 MB\u001b[0m \u001b[31m14.4 MB/s\u001b[0m eta \u001b[36m0:00:00\u001b[0m\n",
            "\u001b[?25hInstalling collected packages: pulp\n",
            "Successfully installed pulp-2.9.0\n"
          ]
        }
      ]
    },
    {
      "cell_type": "code",
      "source": [
        "import pulp\n",
        "\n",
        "# Define model\n",
        "model = pulp.LpProblem(\"Brendamore_Sports_Production\", pulp.LpMinimize)\n",
        "\n",
        "# Define data\n",
        "football_demand = [15000, 25000, 20000, 5000, 2500, 5000]\n",
        "soccer_demand = [10000, 15000, 10000, 5000, 5000, 7500]\n",
        "football_prod_cost = [13.80, 13.90, 12.95, 12.60, 12.55, 12.70]\n",
        "soccer_prod_cost = [10.85, 10.55, 10.50, 10.50, 10.55, 10.00]\n",
        "football_hold_cost = [0.69, 0.70, 0.65, 0.63, 0.63, 0.64]\n",
        "soccer_hold_cost = [0.54, 0.53, 0.53, 0.53, 0.53, 0.50]\n",
        "initial_inventory_football = 7000\n",
        "initial_inventory_soccer = 5000\n",
        "ending_inventory_required_football = 3000\n",
        "ending_inventory_required_soccer = 3000\n",
        "max_production_capacity = 32000\n",
        "max_inventory_capacity = 20000\n",
        "\n",
        "# Decision variables\n",
        "x_f = [pulp.LpVariable(f'x_f_{t}', lowBound=0) for t in range(6)]\n",
        "x_s = [pulp.LpVariable(f'x_s_{t}', lowBound=0) for t in range(6)]\n",
        "h_f = [pulp.LpVariable(f'h_f_{t}', lowBound=0) for t in range(6)]\n",
        "h_s = [pulp.LpVariable(f'h_s_{t}', lowBound=0) for t in range(6)]\n",
        "\n",
        "# Objective function: Minimize production and holding costs\n",
        "model += pulp.lpSum([\n",
        "    football_prod_cost[t] * x_f[t] + soccer_prod_cost[t] * x_s[t] +\n",
        "    football_hold_cost[t] * h_f[t] + soccer_hold_cost[t] * h_s[t]\n",
        "    for t in range(6)\n",
        "])\n",
        "\n",
        "# Constraints\n",
        "# Initial inventory constraints\n",
        "model += h_f[0] == initial_inventory_football + x_f[0] - football_demand[0]\n",
        "model += h_s[0] == initial_inventory_soccer + x_s[0] - soccer_demand[0]\n",
        "\n",
        "# Inventory balance constraints for months 2 to 6\n",
        "for t in range(1, 6):\n",
        "    model += h_f[t] == h_f[t-1] + x_f[t] - football_demand[t]\n",
        "    model += h_s[t] == h_s[t-1] + x_s[t] - soccer_demand[t]\n",
        "\n",
        "# Ending inventory requirements\n",
        "model += h_f[5] >= ending_inventory_required_football\n",
        "model += h_s[5] >= ending_inventory_required_soccer\n",
        "\n",
        "# Production capacity constraints\n",
        "for t in range(6):\n",
        "    model += x_f[t] + x_s[t] <= max_production_capacity\n",
        "\n",
        "# Inventory capacity constraints\n",
        "for t in range(6):\n",
        "    model += h_f[t] + h_s[t] <= max_inventory_capacity\n",
        "\n",
        "# Solve model\n",
        "model.solve()\n",
        "\n",
        "# Output results\n",
        "for t in range(6):\n",
        "    print(f'Month {t+1} - Footballs Produced: {x_f[t].varValue}, Soccer Balls Produced: {x_s[t].varValue}')\n",
        "    print(f'Month {t+1} - Footballs Inventory: {h_f[t].varValue}, Soccer Balls Inventory: {h_s[t].varValue}')\n"
      ],
      "metadata": {
        "colab": {
          "base_uri": "https://localhost:8080/"
        },
        "id": "ZdPpDOb6nQ3l",
        "outputId": "ad1562de-9f5e-4d41-a734-25220b5b549a"
      },
      "execution_count": 2,
      "outputs": [
        {
          "output_type": "stream",
          "name": "stdout",
          "text": [
            "Month 1 - Footballs Produced: 16000.0, Soccer Balls Produced: 5000.0\n",
            "Month 1 - Footballs Inventory: 8000.0, Soccer Balls Inventory: 0.0\n",
            "Month 2 - Footballs Produced: 17000.0, Soccer Balls Produced: 15000.0\n",
            "Month 2 - Footballs Inventory: 0.0, Soccer Balls Inventory: 0.0\n",
            "Month 3 - Footballs Produced: 20000.0, Soccer Balls Produced: 10000.0\n",
            "Month 3 - Footballs Inventory: 0.0, Soccer Balls Inventory: 0.0\n",
            "Month 4 - Footballs Produced: 5000.0, Soccer Balls Produced: 5000.0\n",
            "Month 4 - Footballs Inventory: 0.0, Soccer Balls Inventory: 0.0\n",
            "Month 5 - Footballs Produced: 2500.0, Soccer Balls Produced: 5000.0\n",
            "Month 5 - Footballs Inventory: 0.0, Soccer Balls Inventory: 0.0\n",
            "Month 6 - Footballs Produced: 8000.0, Soccer Balls Produced: 10500.0\n",
            "Month 6 - Footballs Inventory: 3000.0, Soccer Balls Inventory: 3000.0\n"
          ]
        }
      ]
    },
    {
      "cell_type": "markdown",
      "source": [
        "### ***AMPL Code***"
      ],
      "metadata": {
        "id": "Vrg2XhQIDAJ4"
      }
    },
    {
      "cell_type": "code",
      "execution_count": 3,
      "metadata": {
        "colab": {
          "base_uri": "https://localhost:8080/"
        },
        "id": "jHOMdyVD8tgS",
        "outputId": "08a475ee-d927-498f-ac08-4ddbdd06e3eb"
      },
      "outputs": [
        {
          "output_type": "stream",
          "name": "stdout",
          "text": [
            "\u001b[?25l   \u001b[90m━━━━━━━━━━━━━━━━━━━━━━━━━━━━━━━━━━━━━━━━\u001b[0m \u001b[32m0.0/5.6 MB\u001b[0m \u001b[31m?\u001b[0m eta \u001b[36m-:--:--\u001b[0m\r\u001b[2K   \u001b[91m╸\u001b[0m\u001b[90m━━━━━━━━━━━━━━━━━━━━━━━━━━━━━━━━━━━━━━━\u001b[0m \u001b[32m0.1/5.6 MB\u001b[0m \u001b[31m2.2 MB/s\u001b[0m eta \u001b[36m0:00:03\u001b[0m\r\u001b[2K   \u001b[91m━━\u001b[0m\u001b[90m╺\u001b[0m\u001b[90m━━━━━━━━━━━━━━━━━━━━━━━━━━━━━━━━━━━━━\u001b[0m \u001b[32m0.3/5.6 MB\u001b[0m \u001b[31m4.8 MB/s\u001b[0m eta \u001b[36m0:00:02\u001b[0m\r\u001b[2K   \u001b[91m━━━━━━━━━━━━━\u001b[0m\u001b[90m╺\u001b[0m\u001b[90m━━━━━━━━━━━━━━━━━━━━━━━━━━\u001b[0m \u001b[32m1.9/5.6 MB\u001b[0m \u001b[31m17.4 MB/s\u001b[0m eta \u001b[36m0:00:01\u001b[0m\r\u001b[2K   \u001b[91m━━━━━━━━━━━━━━━━━━━━━━━━━━━━━━\u001b[0m\u001b[90m╺\u001b[0m\u001b[90m━━━━━━━━━\u001b[0m \u001b[32m4.3/5.6 MB\u001b[0m \u001b[31m29.8 MB/s\u001b[0m eta \u001b[36m0:00:01\u001b[0m\r\u001b[2K   \u001b[91m━━━━━━━━━━━━━━━━━━━━━━━━━━━━━━━━━━━━━━━\u001b[0m\u001b[91m╸\u001b[0m \u001b[32m5.6/5.6 MB\u001b[0m \u001b[31m34.5 MB/s\u001b[0m eta \u001b[36m0:00:01\u001b[0m\r\u001b[2K   \u001b[90m━━━━━━━━━━━━━━━━━━━━━━━━━━━━━━━━━━━━━━━━\u001b[0m \u001b[32m5.6/5.6 MB\u001b[0m \u001b[31m26.4 MB/s\u001b[0m eta \u001b[36m0:00:00\u001b[0m\n",
            "\u001b[?25hLicensed to Bundle #6741.7193 expiring 20241231: INFO 645 Prescriptive Analytics, Prof. Paul Brooks, Virginia Commonwealth University.\n"
          ]
        }
      ],
      "source": [
        "# Install dependencies\n",
        "!pip install -q amplpy ampltools\n",
        "\n",
        "# Google Colab & AMPL integration\n",
        "MODULES, LICENSE_UUID = [\"coin\", 'gurobi', \"cplex\", \"highs\", \"gokestrel\"], \"42fc7eb6-69aa-445d-b655-3ad24d836541\"\n",
        "from amplpy import tools\n",
        "from ampltools import cloud_platform_name, ampl_notebook, register_magics\n",
        "\n",
        "# Instantiate AMPL object and register magics\n",
        "if cloud_platform_name() is None:\n",
        "    ampl = AMPL() # Use local installation of AMPL\n",
        "else:\n",
        "    ampl = tools.ampl_notebook(modules=MODULES, license_uuid=LICENSE_UUID, g=globals())\n",
        "\n",
        "register_magics(ampl_object=ampl)\n"
      ]
    },
    {
      "cell_type": "code",
      "source": [
        "# Mount Google Drive\n",
        "from google.colab import drive\n",
        "drive.mount('/content/drive')\n",
        "\n",
        "# Import pandas to read Excel data\n",
        "import pandas as pd\n",
        "\n",
        "# Define the file path\n",
        "file_path = '/content/drive/MyDrive/Colab Notebooks/Brendamore.xlsx'"
      ],
      "metadata": {
        "colab": {
          "base_uri": "https://localhost:8080/"
        },
        "id": "Lt3Lmu1R8030",
        "outputId": "52c598e1-9120-400d-c383-869327d55957"
      },
      "execution_count": 4,
      "outputs": [
        {
          "output_type": "stream",
          "name": "stdout",
          "text": [
            "Mounted at /content/drive\n"
          ]
        }
      ]
    },
    {
      "cell_type": "code",
      "source": [
        "# Read data from the same sheet in the Excel file\n",
        "data = pd.read_excel(file_path, sheet_name=\"Data\", index_col=0)\n",
        "\n",
        "# Assuming the structure of the sheet is as follows:\n",
        "# The first rows contain football and soccer demand, production cost, and holding cost\n",
        "# Let's display the data first to verify the structure\n",
        "print(data)"
      ],
      "metadata": {
        "colab": {
          "base_uri": "https://localhost:8080/"
        },
        "id": "EhhLDUWH9e52",
        "outputId": "c9c691cd-315b-49f0-81cb-48921d59a7a4"
      },
      "execution_count": 5,
      "outputs": [
        {
          "output_type": "stream",
          "name": "stdout",
          "text": [
            "                                           Football Demand Forecast  \\\n",
            "Month                                                                 \n",
            "1                                                             15000   \n",
            "2                                                             25000   \n",
            "3                                                             20000   \n",
            "4                                                              5000   \n",
            "5                                                              2500   \n",
            "6                                                              5000   \n",
            "NaN                                                             NaN   \n",
            "NaN                                                       Footballs   \n",
            "Current Inventory                                              7000   \n",
            "Ending Inventory required (end of month 6)                     3000   \n",
            "\n",
            "                                           Production Cost ($ per football)  \\\n",
            "Month                                                                         \n",
            "1                                                                      13.8   \n",
            "2                                                                      13.9   \n",
            "3                                                                     12.95   \n",
            "4                                                                      12.6   \n",
            "5                                                                     12.55   \n",
            "6                                                                      12.7   \n",
            "NaN                                                                     NaN   \n",
            "NaN                                                            Soccer Balls   \n",
            "Current Inventory                                                      5000   \n",
            "Ending Inventory required (end of month 6)                             3000   \n",
            "\n",
            "                                            Holding Cost ($ per football)  \\\n",
            "Month                                                                       \n",
            "1                                                                  0.6900   \n",
            "2                                                                  0.6950   \n",
            "3                                                                  0.6475   \n",
            "4                                                                  0.6300   \n",
            "5                                                                  0.6275   \n",
            "6                                                                  0.6350   \n",
            "NaN                                                                   NaN   \n",
            "NaN                                                                   NaN   \n",
            "Current Inventory                                                     NaN   \n",
            "Ending Inventory required (end of month 6)                            NaN   \n",
            "\n",
            "                                              Soccer Ball Demand Forecast  \\\n",
            "Month                                                                       \n",
            "1                                                                   10000   \n",
            "2                                                                   15000   \n",
            "3                                                                   10000   \n",
            "4                                                                    5000   \n",
            "5                                                                    5000   \n",
            "6                                                                    7500   \n",
            "NaN                                                                   NaN   \n",
            "NaN                                                                   NaN   \n",
            "Current Inventory                           Production Capacity per Month   \n",
            "Ending Inventory required (end of month 6)             Inventory Capacity   \n",
            "\n",
            "                                           Production Cost ($ per soccer ball)  \\\n",
            "Month                                                                            \n",
            "1                                                                        10.85   \n",
            "2                                                                        10.55   \n",
            "3                                                                         10.5   \n",
            "4                                                                         10.5   \n",
            "5                                                                        10.55   \n",
            "6                                                                           10   \n",
            "NaN                                                                        NaN   \n",
            "NaN                                                                      Total   \n",
            "Current Inventory                                                        32000   \n",
            "Ending Inventory required (end of month 6)                               20000   \n",
            "\n",
            "                                            Holding Cost ($ per soccer ball)  \n",
            "Month                                                                         \n",
            "1                                                                     0.5425  \n",
            "2                                                                     0.5275  \n",
            "3                                                                     0.5250  \n",
            "4                                                                     0.5250  \n",
            "5                                                                     0.5275  \n",
            "6                                                                     0.5000  \n",
            "NaN                                                                      NaN  \n",
            "NaN                                                                      NaN  \n",
            "Current Inventory                                                        NaN  \n",
            "Ending Inventory required (end of month 6)                               NaN  \n"
          ]
        }
      ]
    },
    {
      "cell_type": "code",
      "source": [
        "# Extract the necessary data:\n",
        "# Columns for Football Demand, Soccer Demand, Production Cost, and Holding Cost\n",
        "football_demand = data['Football Demand Forecast'].to_dict()\n",
        "soccer_demand = data['Soccer Ball Demand Forecast'].to_dict()\n",
        "football_prod_cost = data['Production Cost ($ per football)'].to_dict()\n",
        "soccer_prod_cost = data['Production Cost ($ per soccer ball)'].to_dict()\n",
        "football_hold_cost = data['Holding Cost ($ per football)'].to_dict()\n",
        "soccer_hold_cost = data['Holding Cost ($ per soccer ball)'].to_dict()\n",
        "\n",
        "# Combine data into dictionaries compatible with AMPL model\n",
        "months = list(data.index)\n",
        "products = ['Football', 'Soccer']\n",
        "\n",
        "# Clean the months and products data by dropping NaN or unwanted entries\n",
        "# Clean the months and products data by dropping NaN or unwanted entries\n",
        "months = [int(month) for month in data.index if pd.notna(month) and str(month).isdigit()]\n",
        "products = ['Football', 'Soccer']\n",
        "\n",
        "# Create a combined demand dictionary\n",
        "demand = {\n",
        "    ('Football', t): football_demand[t] for t in months\n",
        "}\n",
        "demand.update({\n",
        "    ('Soccer', t): soccer_demand[t] for t in months\n",
        "})\n",
        "\n",
        "# Create a combined production cost dictionary\n",
        "prod_cost = {\n",
        "    ('Football', t): football_prod_cost[t] for t in months\n",
        "}\n",
        "prod_cost.update({\n",
        "    ('Soccer', t): soccer_prod_cost[t] for t in months\n",
        "})\n",
        "\n",
        "# Create a combined holding cost dictionary\n",
        "hold_cost = {\n",
        "    ('Football', t): football_hold_cost[t] for t in months\n",
        "}\n",
        "hold_cost.update({\n",
        "    ('Soccer', t): soccer_hold_cost[t] for t in months\n",
        "})\n",
        "\n",
        "# Verify the extracted data\n",
        "print(\"Demand:\", demand)\n",
        "print(\"Production Cost:\", prod_cost)\n",
        "print(\"Holding Cost:\", hold_cost)\n",
        "\n",
        "# Define other parameters (these can stay as they are)\n",
        "initial_inventory = {\"Football\": 7000, \"Soccer\": 5000}\n",
        "ending_inventory_required = {\"Football\": 3000, \"Soccer\": 3000}\n",
        "\n",
        "prod_capacity = 32000\n",
        "inv_capacity = 20000\n"
      ],
      "metadata": {
        "colab": {
          "base_uri": "https://localhost:8080/"
        },
        "id": "BrCsKJ4G86xr",
        "outputId": "88a66f5f-5024-4842-f91d-426e62a46a13"
      },
      "execution_count": 7,
      "outputs": [
        {
          "output_type": "stream",
          "name": "stdout",
          "text": [
            "Demand: {('Football', 1): 15000, ('Football', 2): 25000, ('Football', 3): 20000, ('Football', 4): 5000, ('Football', 5): 2500, ('Football', 6): 5000, ('Soccer', 1): 10000, ('Soccer', 2): 15000, ('Soccer', 3): 10000, ('Soccer', 4): 5000, ('Soccer', 5): 5000, ('Soccer', 6): 7500}\n",
            "Production Cost: {('Football', 1): 13.8, ('Football', 2): 13.9, ('Football', 3): 12.95, ('Football', 4): 12.6, ('Football', 5): 12.55, ('Football', 6): 12.7, ('Soccer', 1): 10.85, ('Soccer', 2): 10.55, ('Soccer', 3): 10.5, ('Soccer', 4): 10.5, ('Soccer', 5): 10.55, ('Soccer', 6): 10}\n",
            "Holding Cost: {('Football', 1): 0.6900000000000001, ('Football', 2): 0.6950000000000001, ('Football', 3): 0.6475, ('Football', 4): 0.63, ('Football', 5): 0.6275000000000001, ('Football', 6): 0.635, ('Soccer', 1): 0.5425, ('Soccer', 2): 0.5275000000000001, ('Soccer', 3): 0.525, ('Soccer', 4): 0.525, ('Soccer', 5): 0.5275000000000001, ('Soccer', 6): 0.5}\n"
          ]
        }
      ]
    },
    {
      "cell_type": "code",
      "source": [
        "# Define the model in AMPL\n",
        "ampl.eval('''\n",
        "\n",
        "reset;\n",
        "\n",
        "set MONTHS;  # Set of months\n",
        "set PRODUCTS;  # Set of products (Football and Soccer Balls)\n",
        "\n",
        "param demand {PRODUCTS, MONTHS};  # Demand for each product in each month\n",
        "param prod_cost {PRODUCTS, MONTHS};  # Production cost for each product in each month\n",
        "param hold_cost {PRODUCTS, MONTHS};  # Holding cost for each product in each month\n",
        "param initial_inventory {PRODUCTS};  # Initial inventory of products\n",
        "param ending_inventory_required {PRODUCTS};  # Required ending inventory of products\n",
        "param prod_capacity;  # Total production capacity per month\n",
        "param inv_capacity;  # Total inventory capacity\n",
        "\n",
        "var x {PRODUCTS, MONTHS} >= 0;  # Production decision variables\n",
        "var h {PRODUCTS, MONTHS} >= 0;  # Inventory decision variables\n",
        "\n",
        "minimize Total_Cost:\n",
        "    sum {p in PRODUCTS, t in MONTHS} (prod_cost[p,t] * x[p,t] + hold_cost[p,t] * h[p,t]);\n",
        "\n",
        "# First month demand fulfillment (use initial inventory)\n",
        "subject to First_Month_Demand_Fulfillment {p in PRODUCTS}:\n",
        "    initial_inventory[p] + x[p,1] - demand[p,1] = h[p,1];\n",
        "\n",
        "# Subsequent months demand fulfillment\n",
        "subject to Subsequent_Months_Demand_Fulfillment {p in PRODUCTS, t in MONTHS: t > 1}:\n",
        "    h[p,t-1] + x[p,t] - demand[p,t] = h[p,t];\n",
        "\n",
        "subject to Production_Capacity {t in MONTHS}:\n",
        "    sum {p in PRODUCTS} x[p,t] <= prod_capacity;\n",
        "\n",
        "subject to Inventory_Capacity {t in MONTHS}:\n",
        "    sum {p in PRODUCTS} h[p,t] <= inv_capacity;\n",
        "\n",
        "subject to Ending_Inventory {p in PRODUCTS}:\n",
        "    h[p,card(MONTHS)] >= ending_inventory_required[p];\n",
        "\n",
        "''')\n"
      ],
      "metadata": {
        "id": "ulzKGy459im0"
      },
      "execution_count": 8,
      "outputs": []
    },
    {
      "cell_type": "code",
      "source": [
        "# Provide data to AMPL\n",
        "ampl.set['MONTHS'] = months\n",
        "ampl.set['PRODUCTS'] = products\n",
        "\n",
        "ampl.param['demand'] = demand\n",
        "ampl.param['prod_cost'] = prod_cost\n",
        "ampl.param['hold_cost'] = hold_cost\n",
        "ampl.param['initial_inventory'] = initial_inventory\n",
        "ampl.param['ending_inventory_required'] = ending_inventory_required\n",
        "\n",
        "ampl.param['prod_capacity'] = prod_capacity\n",
        "ampl.param['inv_capacity'] = inv_capacity\n"
      ],
      "metadata": {
        "id": "-qbWXaHv9kpP"
      },
      "execution_count": 9,
      "outputs": []
    },
    {
      "cell_type": "code",
      "source": [
        "# Use ampl.expand to confirm AMPL model syntax is working\n",
        "ampl.eval('''expand;''')\n",
        "\n",
        "# Set solver and solve the model\n",
        "ampl.setOption('solver', 'cbc')\n",
        "\n",
        "# Solve the model\n",
        "ampl.solve()\n"
      ],
      "metadata": {
        "colab": {
          "base_uri": "https://localhost:8080/"
        },
        "id": "X_eCwVjK9mcW",
        "outputId": "f02b62f7-36c5-49b3-a32e-e6e585581c95"
      },
      "execution_count": 10,
      "outputs": [
        {
          "output_type": "stream",
          "name": "stdout",
          "text": [
            "minimize Total_Cost:\n",
            "\t13.8*x['Football',1] + 13.9*x['Football',2] + 12.95*x['Football',3] + \n",
            "\t12.6*x['Football',4] + 12.55*x['Football',5] + 12.7*x['Football',6] + \n",
            "\t10.85*x['Soccer',1] + 10.55*x['Soccer',2] + 10.5*x['Soccer',3] + \n",
            "\t10.5*x['Soccer',4] + 10.55*x['Soccer',5] + 10*x['Soccer',6] + \n",
            "\t0.69*h['Football',1] + 0.695*h['Football',2] + 0.6475*h['Football',3]\n",
            "\t + 0.63*h['Football',4] + 0.6275*h['Football',5] + \n",
            "\t0.635*h['Football',6] + 0.5425*h['Soccer',1] + 0.5275*h['Soccer',2] + \n",
            "\t0.525*h['Soccer',3] + 0.525*h['Soccer',4] + 0.5275*h['Soccer',5] + \n",
            "\t0.5*h['Soccer',6];\n",
            "\n",
            "subject to First_Month_Demand_Fulfillment[\n",
            "\t'Football']:\n",
            "\tx['Football',1] - h['Football',1] = 8000;\n",
            "\n",
            "subject to First_Month_Demand_Fulfillment[\n",
            "\t'Soccer']:\n",
            "\tx['Soccer',1] - h['Soccer',1] = 5000;\n",
            "\n",
            "subject to Subsequent_Months_Demand_Fulfillment\n",
            "\t['Football',2]:\n",
            "\tx['Football',2] + h['Football',1] - h['Football',2] = 25000;\n",
            "\n",
            "subject to Subsequent_Months_Demand_Fulfillment\n",
            "\t['Football',3]:\n",
            "\tx['Football',3] + h['Football',2] - h['Football',3] = 20000;\n",
            "\n",
            "subject to Subsequent_Months_Demand_Fulfillment\n",
            "\t['Football',4]:\n",
            "\tx['Football',4] + h['Football',3] - h['Football',4] = 5000;\n",
            "\n",
            "subject to Subsequent_Months_Demand_Fulfillment\n",
            "\t['Football',5]:\n",
            "\tx['Football',5] + h['Football',4] - h['Football',5] = 2500;\n",
            "\n",
            "subject to Subsequent_Months_Demand_Fulfillment\n",
            "\t['Football',6]:\n",
            "\tx['Football',6] + h['Football',5] - h['Football',6] = 5000;\n",
            "\n",
            "subject to Subsequent_Months_Demand_Fulfillment\n",
            "\t['Soccer',2]:\n",
            "\tx['Soccer',2] + h['Soccer',1] - h['Soccer',2] = 15000;\n",
            "\n",
            "subject to Subsequent_Months_Demand_Fulfillment\n",
            "\t['Soccer',3]:\n",
            "\tx['Soccer',3] + h['Soccer',2] - h['Soccer',3] = 10000;\n",
            "\n",
            "subject to Subsequent_Months_Demand_Fulfillment\n",
            "\t['Soccer',4]:\n",
            "\tx['Soccer',4] + h['Soccer',3] - h['Soccer',4] = 5000;\n",
            "\n",
            "subject to Subsequent_Months_Demand_Fulfillment\n",
            "\t['Soccer',5]:\n",
            "\tx['Soccer',5] + h['Soccer',4] - h['Soccer',5] = 5000;\n",
            "\n",
            "subject to Subsequent_Months_Demand_Fulfillment\n",
            "\t['Soccer',6]:\n",
            "\tx['Soccer',6] + h['Soccer',5] - h['Soccer',6] = 7500;\n",
            "\n",
            "subject to Production_Capacity[1]:\n",
            "\tx['Football',1] + x['Soccer',1] <= 32000;\n",
            "\n",
            "subject to Production_Capacity[2]:\n",
            "\tx['Football',2] + x['Soccer',2] <= 32000;\n",
            "\n",
            "subject to Production_Capacity[3]:\n",
            "\tx['Football',3] + x['Soccer',3] <= 32000;\n",
            "\n",
            "subject to Production_Capacity[4]:\n",
            "\tx['Football',4] + x['Soccer',4] <= 32000;\n",
            "\n",
            "subject to Production_Capacity[5]:\n",
            "\tx['Football',5] + x['Soccer',5] <= 32000;\n",
            "\n",
            "subject to Production_Capacity[6]:\n",
            "\tx['Football',6] + x['Soccer',6] <= 32000;\n",
            "\n",
            "subject to Inventory_Capacity[1]:\n",
            "\th['Football',1] + h['Soccer',1] <= 20000;\n",
            "\n",
            "subject to Inventory_Capacity[2]:\n",
            "\th['Football',2] + h['Soccer',2] <= 20000;\n",
            "\n",
            "subject to Inventory_Capacity[3]:\n",
            "\th['Football',3] + h['Soccer',3] <= 20000;\n",
            "\n",
            "subject to Inventory_Capacity[4]:\n",
            "\th['Football',4] + h['Soccer',4] <= 20000;\n",
            "\n",
            "subject to Inventory_Capacity[5]:\n",
            "\th['Football',5] + h['Soccer',5] <= 20000;\n",
            "\n",
            "subject to Inventory_Capacity[6]:\n",
            "\th['Football',6] + h['Soccer',6] <= 20000;\n",
            "\n",
            "subject to Ending_Inventory['Football']:\n",
            "\th['Football',6] >= 3000;\n",
            "\n",
            "subject to Ending_Inventory['Soccer']:\n",
            "\th['Soccer',6] >= 3000;\n",
            "\n",
            "cbc 2.10.10: \b\b\b\b\b\b\b\b\b\b\b\b\bcbc 2.10.10: optimal solution; objective 1448750\n",
            "0 simplex iterations\n"
          ]
        }
      ]
    },
    {
      "cell_type": "code",
      "source": [
        "# Print results\n",
        "obj = ampl.get_objective('Total_Cost')\n",
        "print(\"\\n\", \"Total cost is: \", obj.get().value(), \"\\n\")\n",
        "\n",
        "print(\"Production Plan (x):\")\n",
        "ampl.display('x');\n",
        "\n",
        "print(\"Inventory Levels (h):\")\n",
        "ampl.display('h');\n"
      ],
      "metadata": {
        "colab": {
          "base_uri": "https://localhost:8080/"
        },
        "id": "JnY3yh8d9nLg",
        "outputId": "eb41a9ff-fdab-4ca6-994b-e2b12a69e8c1"
      },
      "execution_count": 11,
      "outputs": [
        {
          "output_type": "stream",
          "name": "stdout",
          "text": [
            "\n",
            " Total cost is:  1448750.0 \n",
            "\n",
            "Production Plan (x):\n",
            "x :=\n",
            "Football 1   16000\n",
            "Football 2   17000\n",
            "Football 3   20000\n",
            "Football 4    5000\n",
            "Football 5    2500\n",
            "Football 6    8000\n",
            "Soccer   1    5000\n",
            "Soccer   2   15000\n",
            "Soccer   3   10000\n",
            "Soccer   4    5000\n",
            "Soccer   5    5000\n",
            "Soccer   6   10500\n",
            ";\n",
            "\n",
            "Inventory Levels (h):\n",
            "h :=\n",
            "Football 1   8000\n",
            "Football 2      0\n",
            "Football 3      0\n",
            "Football 4      0\n",
            "Football 5      0\n",
            "Football 6   3000\n",
            "Soccer   1      0\n",
            "Soccer   2      0\n",
            "Soccer   3      0\n",
            "Soccer   4      0\n",
            "Soccer   5      0\n",
            "Soccer   6   3000\n",
            ";\n",
            "\n"
          ]
        }
      ]
    }
  ]
}