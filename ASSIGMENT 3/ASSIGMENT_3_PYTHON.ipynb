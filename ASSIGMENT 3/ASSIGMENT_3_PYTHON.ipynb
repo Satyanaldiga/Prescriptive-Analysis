{
  "nbformat": 4,
  "nbformat_minor": 0,
  "metadata": {
    "colab": {
      "provenance": []
    },
    "kernelspec": {
      "name": "python3",
      "display_name": "Python 3"
    },
    "language_info": {
      "name": "python"
    }
  },
  "cells": [
    {
      "cell_type": "markdown",
      "source": [
        "### ***Python Code***"
      ],
      "metadata": {
        "id": "HFB0F2YxT8rp"
      }
    },
    {
      "cell_type": "code",
      "source": [
        "# Install PuLP if not already installed\n",
        "!pip install -q pulp\n",
        "\n",
        "# Import necessary libraries\n",
        "import pandas as pd\n",
        "from pulp import LpMinimize, LpProblem, LpVariable, lpSum, value\n",
        "\n",
        "# Load the data from Excel (assuming it is stored on Google Drive)\n",
        "from google.colab import drive\n",
        "drive.mount('/content/drive')\n",
        "\n",
        "file_path = '/content/drive/MyDrive/Colab Notebooks/organic_food_supply_chain_data.xlsx'\n",
        "\n",
        "# Read the Excel file\n",
        "df_prep_centers = pd.read_excel(file_path, sheet_name='PrepCenters')\n",
        "df_stores_demand = pd.read_excel(file_path, sheet_name='StoresDemand')\n",
        "df_transport_cost = pd.read_excel(file_path, sheet_name='TransportCostPrepToStore')\n",
        "\n",
        "# Convert the data into dictionaries for easy use in the PuLP model\n",
        "PrepCenters = list(df_prep_centers['PrepCenter'])\n",
        "Stores = list(df_stores_demand['Store'])\n",
        "\n",
        "TransportCostOrchardToPrep = dict(zip(df_prep_centers['PrepCenter'], df_prep_centers['TransportCostOrchardToPrep']))\n",
        "PrepCost = dict(zip(df_prep_centers['PrepCenter'], df_prep_centers['PrepCost']))\n",
        "Capacity = dict(zip(df_prep_centers['PrepCenter'], df_prep_centers['Capacity']))\n",
        "Demand = dict(zip(df_stores_demand['Store'], df_stores_demand['Demand']))\n",
        "\n",
        "TransportCostPrepToStore = {(row['PrepCenter'], row['Store']): row['TransportCostPrepToStore']\n",
        "                            for idx, row in df_transport_cost.iterrows()}\n",
        "\n",
        "# Initialize the model\n",
        "model = LpProblem(\"Organic_Food_Supply_Chain_Optimization\", LpMinimize)\n",
        "\n",
        "# Decision variables\n",
        "x = LpVariable.dicts(\"x\", PrepCenters, lowBound=0, cat='Continuous')  # Orchard to prep centers\n",
        "y = LpVariable.dicts(\"y\", [(i, j) for i in PrepCenters for j in Stores], lowBound=0, cat='Continuous')  # Prep centers to stores\n",
        "\n",
        "# Objective function: Minimize total cost\n",
        "model += (\n",
        "    lpSum(TransportCostOrchardToPrep[i] * x[i] + PrepCost[i] * x[i] for i in PrepCenters)\n",
        "    + lpSum(TransportCostPrepToStore[(i, j)] * y[(i, j)] for i in PrepCenters for j in Stores)\n",
        ")\n",
        "\n",
        "# Constraints\n",
        "\n",
        "# Demand constraints: Supply to each store must meet or exceed the demand\n",
        "for j in Stores:\n",
        "    model += lpSum(y[(i, j)] for i in PrepCenters) >= Demand[j], f\"Demand_{j}\"\n",
        "\n",
        "# Capacity constraints: The amount processed at each center must not exceed its capacity\n",
        "for i in PrepCenters:\n",
        "    model += lpSum(y[(i, j)] for j in Stores) <= Capacity[i], f\"Capacity_{i}\"\n",
        "\n",
        "# Flow balance: Apples sent from orchard to prep centers must equal the amount sent from prep centers to stores\n",
        "for i in PrepCenters:\n",
        "    model += x[i] == lpSum(y[(i, j)] for j in Stores), f\"FlowBalance_{i}\"\n",
        "\n",
        "# Solve the model\n",
        "model.solve()\n",
        "\n",
        "# Get and print the results\n",
        "print(f\"Total cost is: {value(model.objective)}\\n\")\n",
        "\n",
        "# Amount transported from orchard to preparation centers\n",
        "for i in PrepCenters:\n",
        "    print(f\"Amount transported from orchard to preparation center {i}: {value(x[i])}\")\n",
        "\n",
        "# Amount transported from preparation centers to stores\n",
        "for i in PrepCenters:\n",
        "    for j in Stores:\n",
        "        print(f\"Amount transported from preparation center {i} to store {j}: {value(y[(i, j)])}\")\n"
      ],
      "metadata": {
        "colab": {
          "base_uri": "https://localhost:8080/"
        },
        "id": "Je0d6XUcUJeh",
        "outputId": "cadb11d7-d22d-4f7c-c340-22b8a0b6fbb6"
      },
      "execution_count": 2,
      "outputs": [
        {
          "output_type": "stream",
          "name": "stdout",
          "text": [
            "Drive already mounted at /content/drive; to attempt to forcibly remount, call drive.mount(\"/content/drive\", force_remount=True).\n",
            "Total cost is: 3040.0\n",
            "\n",
            "Amount transported from orchard to preparation center 1: 300.0\n",
            "Amount transported from orchard to preparation center 2: 500.0\n",
            "Amount transported from orchard to preparation center 3: 600.0\n",
            "Amount transported from preparation center 1 to store OrganicOrchard: 0.0\n",
            "Amount transported from preparation center 1 to store FreshLocal: 100.0\n",
            "Amount transported from preparation center 1 to store HealthyPantry: 0.0\n",
            "Amount transported from preparation center 1 to store SeasonsHarvest: 200.0\n",
            "Amount transported from preparation center 2 to store OrganicOrchard: 0.0\n",
            "Amount transported from preparation center 2 to store FreshLocal: 100.0\n",
            "Amount transported from preparation center 2 to store HealthyPantry: 400.0\n",
            "Amount transported from preparation center 2 to store SeasonsHarvest: 0.0\n",
            "Amount transported from preparation center 3 to store OrganicOrchard: 300.0\n",
            "Amount transported from preparation center 3 to store FreshLocal: 300.0\n",
            "Amount transported from preparation center 3 to store HealthyPantry: 0.0\n",
            "Amount transported from preparation center 3 to store SeasonsHarvest: 0.0\n"
          ]
        }
      ]
    },
    {
      "cell_type": "markdown",
      "source": [
        "### ***AMPL Code***"
      ],
      "metadata": {
        "id": "zO0bNlz0UGZ_"
      }
    },
    {
      "cell_type": "code",
      "execution_count": 3,
      "metadata": {
        "colab": {
          "base_uri": "https://localhost:8080/"
        },
        "id": "EMnSnFjrFTid",
        "outputId": "a9d25036-73ba-4087-d6b0-e0a51e8565cd"
      },
      "outputs": [
        {
          "output_type": "stream",
          "name": "stdout",
          "text": [
            "\u001b[?25l   \u001b[90m━━━━━━━━━━━━━━━━━━━━━━━━━━━━━━━━━━━━━━━━\u001b[0m \u001b[32m0.0/5.6 MB\u001b[0m \u001b[31m?\u001b[0m eta \u001b[36m-:--:--\u001b[0m\r\u001b[2K   \u001b[91m╸\u001b[0m\u001b[90m━━━━━━━━━━━━━━━━━━━━━━━━━━━━━━━━━━━━━━━\u001b[0m \u001b[32m0.1/5.6 MB\u001b[0m \u001b[31m3.4 MB/s\u001b[0m eta \u001b[36m0:00:02\u001b[0m\r\u001b[2K   \u001b[91m━━━━━━━\u001b[0m\u001b[90m╺\u001b[0m\u001b[90m━━━━━━━━━━━━━━━━━━━━━━━━━━━━━━━━\u001b[0m \u001b[32m1.1/5.6 MB\u001b[0m \u001b[31m15.0 MB/s\u001b[0m eta \u001b[36m0:00:01\u001b[0m\r\u001b[2K   \u001b[91m━━━━━━━━━━━━━━━━━━━━━━━━━━━━━━━━━━━━━━━\u001b[0m\u001b[91m╸\u001b[0m \u001b[32m5.6/5.6 MB\u001b[0m \u001b[31m54.8 MB/s\u001b[0m eta \u001b[36m0:00:01\u001b[0m\r\u001b[2K   \u001b[90m━━━━━━━━━━━━━━━━━━━━━━━━━━━━━━━━━━━━━━━━\u001b[0m \u001b[32m5.6/5.6 MB\u001b[0m \u001b[31m41.8 MB/s\u001b[0m eta \u001b[36m0:00:00\u001b[0m\n",
            "\u001b[?25hLicensed to Bundle #6741.7193 expiring 20241231: INFO 645 Prescriptive Analytics, Prof. Paul Brooks, Virginia Commonwealth University.\n"
          ]
        }
      ],
      "source": [
        "# Install dependencies\n",
        "!pip install -q amplpy ampltools\n",
        "\n",
        "# Google Colab & AMPL integration\n",
        "MODULES, LICENSE_UUID = [\"coin\", 'gurobi', \"cplex\", \"highs\", \"gokestrel\"], \"42fc7eb6-69aa-445d-b655-3ad24d836541\"\n",
        "from amplpy import tools\n",
        "from ampltools import cloud_platform_name, ampl_notebook, register_magics\n",
        "\n",
        "# Instantiate AMPL object and register magics\n",
        "if cloud_platform_name() is None:\n",
        "    ampl = AMPL() # Use local installation of AMPL\n",
        "else:\n",
        "    ampl = tools.ampl_notebook(modules=MODULES, license_uuid=LICENSE_UUID, g=globals())\n",
        "\n",
        "register_magics(ampl_object=ampl)"
      ]
    },
    {
      "cell_type": "code",
      "source": [
        "# Mount Google Drive\n",
        "from google.colab import drive\n",
        "drive.mount('/content/drive')\n",
        "\n",
        "# Import pandas to read Excel data\n",
        "import pandas as pd\n",
        "\n",
        "# Define the file path\n",
        "file_path = '/content/drive/MyDrive/Colab Notebooks/organic_food_supply_chain_data.xlsx'"
      ],
      "metadata": {
        "colab": {
          "base_uri": "https://localhost:8080/"
        },
        "id": "B2B0ZM5mFZdl",
        "outputId": "8007a7ac-715c-4088-9880-d67e31a272f2"
      },
      "execution_count": 4,
      "outputs": [
        {
          "output_type": "stream",
          "name": "stdout",
          "text": [
            "Drive already mounted at /content/drive; to attempt to forcibly remount, call drive.mount(\"/content/drive\", force_remount=True).\n"
          ]
        }
      ]
    },
    {
      "cell_type": "code",
      "source": [
        "# Read the Excel file\n",
        "df_prep_centers = pd.read_excel(file_path, sheet_name='PrepCenters')\n",
        "df_stores_demand = pd.read_excel(file_path, sheet_name='StoresDemand')\n",
        "df_transport_cost = pd.read_excel(file_path, sheet_name='TransportCostPrepToStore')\n",
        "\n",
        "# Convert the data into dictionaries to pass into AMPL\n",
        "PrepCenters = list(df_prep_centers['PrepCenter'])\n",
        "Stores = list(df_stores_demand['Store'])\n",
        "\n",
        "TransportCostOrchardToPrep = dict(zip(df_prep_centers['PrepCenter'], df_prep_centers['TransportCostOrchardToPrep']))\n",
        "PrepCost = dict(zip(df_prep_centers['PrepCenter'], df_prep_centers['PrepCost']))\n",
        "Capacity = dict(zip(df_prep_centers['PrepCenter'], df_prep_centers['Capacity']))\n",
        "Demand = dict(zip(df_stores_demand['Store'], df_stores_demand['Demand']))\n",
        "\n",
        "# Convert transport cost from prep centers to stores into a dictionary\n",
        "TransportCostPrepToStore = {(row['PrepCenter'], row['Store']): row['TransportCostPrepToStore']\n",
        "                            for idx, row in df_transport_cost.iterrows()}"
      ],
      "metadata": {
        "id": "5xABUW8qFdU7"
      },
      "execution_count": 5,
      "outputs": []
    },
    {
      "cell_type": "code",
      "source": [
        "# Define the model in AMPL\n",
        "ampl.eval('''\n",
        "\n",
        "reset;\n",
        "\n",
        "# Define sets\n",
        "set PrepCenters;\n",
        "set Stores;\n",
        "\n",
        "# Define parameters\n",
        "param TransportCostOrchardToPrep {PrepCenters};\n",
        "param PrepCost {PrepCenters};\n",
        "param Capacity {PrepCenters};\n",
        "param Demand {Stores};\n",
        "param TransportCostPrepToStore {PrepCenters, Stores};\n",
        "\n",
        "# Define decision variables\n",
        "var x {i in PrepCenters} >= 0;  # Amount transported from orchard to preparation centers\n",
        "var y {i in PrepCenters, j in Stores} >= 0;  # Amount transported from preparation centers to stores\n",
        "\n",
        "# Objective: Minimize the total cost\n",
        "minimize TotalCost:\n",
        "    sum {i in PrepCenters} (TransportCostOrchardToPrep[i] * x[i] + PrepCost[i] * x[i])\n",
        "    + sum {i in PrepCenters, j in Stores} (TransportCostPrepToStore[i,j] * y[i,j]);\n",
        "\n",
        "# Demand constraints: Supply to each store must meet or exceed the demand\n",
        "subject to DemandSatisfaction {j in Stores}:\n",
        "    sum {i in PrepCenters} y[i,j] >= Demand[j];\n",
        "\n",
        "# Capacity constraints: Each preparation center cannot exceed its processing capacity\n",
        "subject to CapacityConstraint {i in PrepCenters}:\n",
        "    sum {j in Stores} y[i,j] <= Capacity[i];\n",
        "\n",
        "# Flow balance: Apples sent from orchard to prep centers must equal the amount sent from prep centers to stores\n",
        "subject to FlowBalance {i in PrepCenters}:\n",
        "    x[i] = sum {j in Stores} y[i,j];\n",
        "\n",
        "''')\n"
      ],
      "metadata": {
        "id": "e7LdkLp-FkfL"
      },
      "execution_count": 6,
      "outputs": []
    },
    {
      "cell_type": "code",
      "source": [
        "# Pass the data to the AMPL model\n",
        "ampl.set['PrepCenters'] = PrepCenters\n",
        "ampl.set['Stores'] = Stores\n",
        "ampl.param['TransportCostOrchardToPrep'] = TransportCostOrchardToPrep\n",
        "ampl.param['PrepCost'] = PrepCost\n",
        "ampl.param['Capacity'] = Capacity\n",
        "ampl.param['Demand'] = Demand\n",
        "ampl.param['TransportCostPrepToStore'] = TransportCostPrepToStore"
      ],
      "metadata": {
        "id": "oL3I3W49FoPD"
      },
      "execution_count": 7,
      "outputs": []
    },
    {
      "cell_type": "code",
      "source": [
        "# Use ampl.expand to confirm AMPL model syntax is working\n",
        "ampl.eval('expand;')\n",
        "\n",
        "# Set solver option and solve the model\n",
        "ampl.setOption('solver', 'cbc')\n",
        "\n",
        "# Solve the model\n",
        "ampl.solve()"
      ],
      "metadata": {
        "colab": {
          "base_uri": "https://localhost:8080/"
        },
        "id": "p5Q3rVAdFpF7",
        "outputId": "a3a4cd7d-46f8-4d26-871d-a5d3a178c55d"
      },
      "execution_count": 8,
      "outputs": [
        {
          "output_type": "stream",
          "name": "stdout",
          "text": [
            "minimize TotalCost:\n",
            "\t0.6*x[1] + 1.2*x[2] + 1.8*x[3] + 0.8*y[1,'OrganicOrchard'] + \n",
            "\t1.1*y[1,'FreshLocal'] + 0.7*y[1,'HealthyPantry'] + \n",
            "\t1.4*y[1,'SeasonsHarvest'] + 1.2*y[2,'OrganicOrchard'] + \n",
            "\t1.1*y[2,'FreshLocal'] + 0.5*y[2,'HealthyPantry'] + \n",
            "\t1.4*y[2,'SeasonsHarvest'] + 0.2*y[3,'OrganicOrchard'] + \n",
            "\t1.4*y[3,'FreshLocal'] + 1.3*y[3,'HealthyPantry'] + \n",
            "\t1.7*y[3,'SeasonsHarvest'];\n",
            "\n",
            "subject to DemandSatisfaction['OrganicOrchard']:\n",
            "\ty[1,'OrganicOrchard'] + y[2,'OrganicOrchard'] + y[3,'OrganicOrchard']\n",
            "\t >= 300;\n",
            "\n",
            "subject to DemandSatisfaction['FreshLocal']:\n",
            "\ty[1,'FreshLocal'] + y[2,'FreshLocal'] + y[3,'FreshLocal'] >= 500;\n",
            "\n",
            "subject to DemandSatisfaction['HealthyPantry']:\n",
            "\ty[1,'HealthyPantry'] + y[2,'HealthyPantry'] + y[3,'HealthyPantry'] >= \n",
            "\t400;\n",
            "\n",
            "subject to DemandSatisfaction['SeasonsHarvest']:\n",
            "\ty[1,'SeasonsHarvest'] + y[2,'SeasonsHarvest'] + y[3,'SeasonsHarvest']\n",
            "\t >= 200;\n",
            "\n",
            "subject to CapacityConstraint[1]:\n",
            "\ty[1,'OrganicOrchard'] + y[1,'FreshLocal'] + y[1,'HealthyPantry'] + \n",
            "\ty[1,'SeasonsHarvest'] <= 300;\n",
            "\n",
            "subject to CapacityConstraint[2]:\n",
            "\ty[2,'OrganicOrchard'] + y[2,'FreshLocal'] + y[2,'HealthyPantry'] + \n",
            "\ty[2,'SeasonsHarvest'] <= 500;\n",
            "\n",
            "subject to CapacityConstraint[3]:\n",
            "\ty[3,'OrganicOrchard'] + y[3,'FreshLocal'] + y[3,'HealthyPantry'] + \n",
            "\ty[3,'SeasonsHarvest'] <= 800;\n",
            "\n",
            "subject to FlowBalance[1]:\n",
            "\tx[1] - y[1,'OrganicOrchard'] - y[1,'FreshLocal'] - y[1,'HealthyPantry']\n",
            "\t - y[1,'SeasonsHarvest'] = 0;\n",
            "\n",
            "subject to FlowBalance[2]:\n",
            "\tx[2] - y[2,'OrganicOrchard'] - y[2,'FreshLocal'] - y[2,'HealthyPantry']\n",
            "\t - y[2,'SeasonsHarvest'] = 0;\n",
            "\n",
            "subject to FlowBalance[3]:\n",
            "\tx[3] - y[3,'OrganicOrchard'] - y[3,'FreshLocal'] - y[3,'HealthyPantry']\n",
            "\t - y[3,'SeasonsHarvest'] = 0;\n",
            "\n",
            "cbc 2.10.10: \b\b\b\b\b\b\b\b\b\b\b\b\bcbc 2.10.10: optimal solution; objective 3040\n",
            "0 simplex iterations\n"
          ]
        }
      ]
    },
    {
      "cell_type": "code",
      "source": [
        "# Get and print the results\n",
        "obj = ampl.get_objective('TotalCost')\n",
        "print(\"\\nTotal cost is: \", obj.get().value(), \"\\n\")\n",
        "\n",
        "# Print the decision variable results\n",
        "print(\"Amount transported from orchard to preparation centers (x):\")\n",
        "ampl.display('x')\n",
        "\n",
        "print(\"Amount transported from preparation centers to stores (y):\")\n",
        "ampl.display('y')"
      ],
      "metadata": {
        "colab": {
          "base_uri": "https://localhost:8080/"
        },
        "id": "69obu2qSFren",
        "outputId": "f9da00ac-b818-4eb0-f37e-a89af560b078"
      },
      "execution_count": 9,
      "outputs": [
        {
          "output_type": "stream",
          "name": "stdout",
          "text": [
            "\n",
            "Total cost is:  3040.0 \n",
            "\n",
            "Amount transported from orchard to preparation centers (x):\n",
            "x [*] :=\n",
            "1  300\n",
            "2  500\n",
            "3  600\n",
            ";\n",
            "\n",
            "Amount transported from preparation centers to stores (y):\n",
            "y :=\n",
            "1 FreshLocal       100\n",
            "1 HealthyPantry      0\n",
            "1 OrganicOrchard     0\n",
            "1 SeasonsHarvest   200\n",
            "2 FreshLocal       100\n",
            "2 HealthyPantry    400\n",
            "2 OrganicOrchard     0\n",
            "2 SeasonsHarvest     0\n",
            "3 FreshLocal       300\n",
            "3 HealthyPantry      0\n",
            "3 OrganicOrchard   300\n",
            "3 SeasonsHarvest     0\n",
            ";\n",
            "\n"
          ]
        }
      ]
    }
  ]
}