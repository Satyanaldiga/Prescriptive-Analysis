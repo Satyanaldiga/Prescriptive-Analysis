{
  "nbformat": 4,
  "nbformat_minor": 0,
  "metadata": {
    "colab": {
      "provenance": []
    },
    "kernelspec": {
      "name": "python3",
      "display_name": "Python 3"
    },
    "language_info": {
      "name": "python"
    }
  },
  "cells": [
    {
      "cell_type": "markdown",
      "source": [
        "# **Assignment 4: Simulation Optimization**"
      ],
      "metadata": {
        "id": "K3KhuteWOHkj"
      }
    },
    {
      "cell_type": "code",
      "execution_count": 26,
      "metadata": {
        "colab": {
          "base_uri": "https://localhost:8080/"
        },
        "id": "jjnYqmimFwiv",
        "outputId": "0d0c1a15-926d-4506-b31e-657637d7cf05"
      },
      "outputs": [
        {
          "output_type": "stream",
          "name": "stdout",
          "text": [
            "Drive already mounted at /content/drive; to attempt to forcibly remount, call drive.mount(\"/content/drive\", force_remount=True).\n"
          ]
        }
      ],
      "source": [
        "# Mount Google Drive\n",
        "from google.colab import drive\n",
        "drive.mount('/content/drive')"
      ]
    },
    {
      "cell_type": "code",
      "source": [
        "# Set Up File Path for External Libraries\n",
        "import sys\n",
        "sys.path.insert(0, '/content/drive/MyDrive/')\n"
      ],
      "metadata": {
        "id": "jIZbsCDyF3ZY"
      },
      "execution_count": 27,
      "outputs": []
    },
    {
      "cell_type": "code",
      "source": [
        "# Import Libraries\n",
        "import pandas as pd\n",
        "import numpy as np\n",
        "import seaborn as sns\n",
        "from brooks import *\n"
      ],
      "metadata": {
        "id": "Zg5VWSoNF6gf"
      },
      "execution_count": 28,
      "outputs": []
    },
    {
      "cell_type": "code",
      "source": [
        "# Load Vaccine Demand Data\n",
        "vaccine_demand_data = pd.read_excel(\"/content/drive/MyDrive/OuRx.xlsx\", sheet_name=\"Data\")\n",
        "vaccine_demand_data = vaccine_demand_data[vaccine_demand_data[\"Vaccine Demand\"] < 30000000]\n"
      ],
      "metadata": {
        "id": "buyCoDPKF8AU"
      },
      "execution_count": 29,
      "outputs": []
    },
    {
      "cell_type": "code",
      "source": [
        "# Plot Vaccine Demand Distribution\n",
        "demand_plot = sns.histplot(vaccine_demand_data, label=\"Vaccine Demand\")\n",
        "demand_plot.legend()\n",
        "demand_plot.figure.show()"
      ],
      "metadata": {
        "colab": {
          "base_uri": "https://localhost:8080/",
          "height": 448
        },
        "id": "EReoX3LzGCYj",
        "outputId": "2a8a09c8-96de-4649-f8a9-c778cdbb2744"
      },
      "execution_count": 30,
      "outputs": [
        {
          "output_type": "display_data",
          "data": {
            "text/plain": [
              "<Figure size 640x480 with 1 Axes>"
            ],
            "image/png": "[encoded data removed]"
          },
          "metadata": {}
        }
      ]
    },
    {
      "cell_type": "code",
      "source": [
        "# Conduct Chi-Square Goodness-of-Fit Tests for Various Distributions\n",
        "print(\"Chi-Square Goodness-of-Fit Test Results:\")\n",
        "# Testing uniform distribution\n",
        "uniform_results = test_distribution(vaccine_demand_data[\"Vaccine Demand\"], \"uniform\")\n",
        "print(f\"Uniform Distribution: {uniform_results}\")"
      ],
      "metadata": {
        "colab": {
          "base_uri": "https://localhost:8080/"
        },
        "id": "HULWynTNGEg1",
        "outputId": "3e2e54a5-97a3-422e-be8f-43f908e40ba8"
      },
      "execution_count": 31,
      "outputs": [
        {
          "output_type": "stream",
          "name": "stdout",
          "text": [
            "Chi-Square Goodness-of-Fit Test Results:\n",
            "For a uniform distribution, the min estimate is 3157.000000 and the max estimate is 21738695.000000.\n",
            "The test statistic for a uniform distribution is 8694.279483 and the p-value is 0.000000.\n",
            "Uniform Distribution: (3157.0, 21738695.0)\n"
          ]
        }
      ]
    },
    {
      "cell_type": "code",
      "source": [
        "# Testing normal distribution\n",
        "normal_results = test_distribution(vaccine_demand_data[\"Vaccine Demand\"], \"normal\")\n",
        "print(f\"Normal Distribution: {normal_results}\")"
      ],
      "metadata": {
        "colab": {
          "base_uri": "https://localhost:8080/"
        },
        "id": "O53afLXwGIKu",
        "outputId": "a8cca443-5562-4808-809e-d91312d5eadc"
      },
      "execution_count": 32,
      "outputs": [
        {
          "output_type": "stream",
          "name": "stdout",
          "text": [
            "For a normal distribution, the mean estimate is 924033.462926 and the standard deviation estimate is 2069466.437573.\n",
            "The test statistic for a normal distribution is 2299.479433 and the p-value is 0.000000.\n",
            "Normal Distribution: (924033.4629258517, 2069466.4375729202)\n"
          ]
        }
      ]
    },
    {
      "cell_type": "code",
      "source": [
        "# Testing gamma distribution\n",
        "gamma_results = test_distribution(vaccine_demand_data[\"Vaccine Demand\"], \"gamma\")\n",
        "print(f\"Gamma Distribution: {gamma_results}\")\n",
        "(alpha, beta) = gamma_results  # Extract gamma parameters"
      ],
      "metadata": {
        "colab": {
          "base_uri": "https://localhost:8080/"
        },
        "id": "gAkU3C-QGN21",
        "outputId": "a9e23620-5b21-4f78-9ef7-c0e765e7bad0"
      },
      "execution_count": 24,
      "outputs": [
        {
          "output_type": "stream",
          "name": "stdout",
          "text": [
            "For a gamma distribution, the alpha estimate is 0.560517 and the scale = 1/beta estimate is 1648536.845273.\n",
            "The test statistic for a gamma distribution is 88.282388 and the p-value is 0.984214.\n",
            "Gamma Distribution: (0.5605173251512638, 1648536.8452732263)\n"
          ]
        }
      ]
    },
    {
      "cell_type": "code",
      "source": [
        "# Testing lognormal distribution\n",
        "lognormal_results = test_distribution(vaccine_demand_data[\"Vaccine Demand\"], \"lognormal\")\n",
        "print(f\"Lognormal Distribution: {lognormal_results}\")\n",
        "(lognormal_mean, lognormal_sigma) = lognormal_results  # Extract lognormal parameters"
      ],
      "metadata": {
        "colab": {
          "base_uri": "https://localhost:8080/"
        },
        "id": "6dFL00DZGQWZ",
        "outputId": "460fc36d-da77-49cd-d3a3-c7113d506e48"
      },
      "execution_count": 33,
      "outputs": [
        {
          "output_type": "stream",
          "name": "stdout",
          "text": [
            "For a lognormal distribution, the log mean estimate is 12.622927 and the log stdev estimate is 1.486323.\n",
            "The test statistic for a lognormal distribution is 29.309394 and the p-value is 1.000000.\n",
            "Lognormal Distribution: (12.622926731401646, 1.4863231192380928)\n"
          ]
        }
      ]
    },
    {
      "cell_type": "code",
      "source": [
        "# Set Simulation Parameters\n",
        "vaccine_price = 20\n",
        "vaccine_cost_per_unit = 12\n",
        "order_quantities = [400000, 450000, 500000, 550000, 600000]\n",
        "num_simulations = 1000  # Number of simulations per order quantity\n",
        "\n",
        "# Initialize Random Generator\n",
        "random_gen = np.random.default_rng(12345)  # Seed for reproducibility\n",
        "\n",
        "# Run Simulation for Each Order Quantity\n",
        "for order_qty in order_quantities:\n",
        "    profit_simulations = []\n",
        "    stockout_count = 0\n",
        "\n",
        "    # Run Simulation Iterations\n",
        "    for i in range(num_simulations):\n",
        "        # Generate Demand Using Log-normal Distribution\n",
        "        demand = 0\n",
        "        while demand <= 0:  # Ensure positive demand\n",
        "            demand = random_gen.lognormal(lognormal_mean, lognormal_sigma)\n",
        "\n",
        "        # Calculate Revenue Based on Demand and Stock Availability\n",
        "        if demand >= order_qty:\n",
        "            revenue = vaccine_price * order_qty\n",
        "            stockout_count += 1  # Increment stockout count if demand exceeds order quantity\n",
        "        else:\n",
        "            revenue = vaccine_price * demand\n",
        "\n",
        "        # Calculate Cost and Profit\n",
        "        cost = vaccine_cost_per_unit * order_qty\n",
        "        profit = revenue - cost\n",
        "        profit_simulations.append(profit)\n",
        "\n",
        "    # Calculate Expected Profit and Confidence Interval\n",
        "    expected_profit = np.mean(profit_simulations)\n",
        "    lower_bound = np.percentile(profit_simulations, 2.5)\n",
        "    upper_bound = np.percentile(profit_simulations, 97.5)\n",
        "\n",
        "    # Calculate Probability of Stockout\n",
        "    probability_of_stockout = stockout_count / num_simulations\n",
        "\n",
        "    # Display Results for Current Order Quantity\n",
        "    print(f\"Order size {order_qty}\")\n",
        "    print(f\"Expected profit: {expected_profit:.2f}\")\n",
        "    print(f\"95% credible interval for net profit: ({lower_bound:.2f}, {upper_bound:.2f})\")\n",
        "    print(f\"Probability of running out of the vaccine: {probability_of_stockout:.4f}\\n\")"
      ],
      "metadata": {
        "colab": {
          "base_uri": "https://localhost:8080/"
        },
        "id": "jyIzpv3UGUER",
        "outputId": "6b02926d-c218-4fa7-f037-e8d2ee17d480"
      },
      "execution_count": 34,
      "outputs": [
        {
          "output_type": "stream",
          "name": "stdout",
          "text": [
            "Order size 400000\n",
            "Expected profit: 424309.12\n",
            "95% credible interval for net profit: (-4513101.11, 3200000.00)\n",
            "Probability of running out of the vaccine: 0.4400\n",
            "\n",
            "Order size 450000\n",
            "Expected profit: 297391.08\n",
            "95% credible interval for net profit: (-5085801.48, 3600000.00)\n",
            "Probability of running out of the vaccine: 0.4000\n",
            "\n",
            "Order size 500000\n",
            "Expected profit: -56014.07\n",
            "95% credible interval for net profit: (-5650710.17, 4000000.00)\n",
            "Probability of running out of the vaccine: 0.3600\n",
            "\n",
            "Order size 550000\n",
            "Expected profit: -440801.61\n",
            "95% credible interval for net profit: (-6275515.85, 4400000.00)\n",
            "Probability of running out of the vaccine: 0.3390\n",
            "\n",
            "Order size 600000\n",
            "Expected profit: -648744.54\n",
            "95% credible interval for net profit: (-6919820.42, 4800000.00)\n",
            "Probability of running out of the vaccine: 0.3130\n",
            "\n"
          ]
        }
      ]
    }
  ]
}